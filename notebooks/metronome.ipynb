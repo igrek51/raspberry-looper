{
 "cells": [
  {
   "cell_type": "code",
   "execution_count": 4,
   "id": "284f22a6-07c7-4fc8-b661-9929a2ca3d95",
   "metadata": {},
   "outputs": [],
   "source": [
    "import numpy as np\n",
    "import matplotlib.pyplot as plt\n",
    "from pathlib import Path\n",
    "\n",
    "from looper.runner.dsp import SignalProcessor\n",
    "from looper.runner.config import Config\n",
    "from looper.runner.metronome import Metronome"
   ]
  },
  {
   "cell_type": "code",
   "execution_count": 5,
   "id": "c09cc2ec-90c1-483f-8eaf-5c7595d796bc",
   "metadata": {},
   "outputs": [],
   "source": [
    "config = Config()\n",
    "metronome = Metronome(config)"
   ]
  },
  {
   "cell_type": "code",
   "execution_count": 11,
   "id": "7046d838-979e-499c-b539-de94f4b3e9fe",
   "metadata": {},
   "outputs": [],
   "source": [
    "beat_high = metronome.load_wav_array(Path('../sfx') / 'metronome-beat-high.wav')"
   ]
  },
  {
   "cell_type": "code",
   "execution_count": 10,
   "id": "9d982dbd-f31e-4891-b4fa-378418e79a8a",
   "metadata": {},
   "outputs": [
    {
     "data": {
      "text/plain": [
       "[<matplotlib.lines.Line2D at 0x7f44db844a60>]"
      ]
     },
     "execution_count": 10,
     "metadata": {},
     "output_type": "execute_result"
    },
    {
     "data": {
      "image/png": "[encoded data removed]",
      "text/plain": [
       "<Figure size 432x288 with 1 Axes>"
      ]
     },
     "metadata": {
      "needs_background": "light"
     },
     "output_type": "display_data"
    }
   ],
   "source": [
    "plt.plot(beat_high)"
   ]
  },
  {
   "cell_type": "code",
   "execution_count": 13,
   "id": "d8f61dc9-670a-473b-a1e5-1fc7b6056cb0",
   "metadata": {},
   "outputs": [
    {
     "data": {
      "text/plain": [
       "(-32768, 32767)"
      ]
     },
     "execution_count": 13,
     "metadata": {},
     "output_type": "execute_result"
    }
   ],
   "source": [
    "min(beat_high), max(beat_high)"
   ]
  },
  {
   "cell_type": "code",
   "execution_count": null,
   "id": "cd52a61b-f02a-47b7-87be-0a6888283928",
   "metadata": {},
   "outputs": [],
   "source": []
  }
 ],
 "metadata": {
  "kernelspec": {
   "display_name": "Python 3",
   "language": "python",
   "name": "python3"
  },
  "language_info": {
   "codemirror_mode": {
    "name": "ipython",
    "version": 3
   },
   "file_extension": ".py",
   "mimetype": "text/x-python",
   "name": "python",
   "nbconvert_exporter": "python",
   "pygments_lexer": "ipython3",
   "version": "3.8.13"
  }
 },
 "nbformat": 4,
 "nbformat_minor": 5
}
